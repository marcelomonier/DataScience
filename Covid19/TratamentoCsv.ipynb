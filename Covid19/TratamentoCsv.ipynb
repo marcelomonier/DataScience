{
 "cells": [
  {
   "cell_type": "code",
   "execution_count": 6,
   "metadata": {},
   "outputs": [],
   "source": []
  },
  {
   "cell_type": "code",
   "execution_count": 11,
   "metadata": {},
   "outputs": [],
   "source": []
  },
  {
   "cell_type": "code",
   "execution_count": 12,
   "metadata": {},
   "outputs": [
    {
     "name": "stdout",
     "output_type": "stream",
     "text": [
      "<class 'pandas.core.frame.DataFrame'>\n",
      "RangeIndex: 34 entries, 0 to 33\n",
      "Data columns (total 18 columns):\n",
      "Unnamed: 0                34 non-null int64\n",
      "regiao                    34 non-null object\n",
      "estado                    0 non-null float64\n",
      "municipio                 0 non-null float64\n",
      "coduf                     34 non-null int64\n",
      "codmun                    0 non-null float64\n",
      "codRegiaoSaude            0 non-null float64\n",
      "nomeRegiaoSaude           0 non-null float64\n",
      "data                      34 non-null object\n",
      "semanaEpi                 34 non-null int64\n",
      "populacaoTCU2019          34 non-null float64\n",
      "casosAcumulado            34 non-null int64\n",
      "casosNovos                34 non-null int64\n",
      "obitosAcumulado           34 non-null int64\n",
      "obitosNovos               34 non-null int64\n",
      "Recuperadosnovos          34 non-null float64\n",
      "emAcompanhamentoNovos     34 non-null float64\n",
      "interior/metropolitana    0 non-null float64\n",
      "dtypes: float64(9), int64(7), object(2)\n",
      "memory usage: 4.9+ KB\n"
     ]
    }
   ],
   "source": [
    "df.info()"
   ]
  },
  {
   "cell_type": "code",
   "execution_count": null,
   "metadata": {},
   "outputs": [],
   "source": []
  },
  {
   "cell_type": "code",
   "execution_count": null,
   "metadata": {},
   "outputs": [],
   "source": []
  },
  {
   "cell_type": "code",
   "execution_count": null,
   "metadata": {},
   "outputs": [],
   "source": []
  },
  {
   "cell_type": "code",
   "execution_count": null,
   "metadata": {},
   "outputs": [],
   "source": []
  },
  {
   "cell_type": "code",
   "execution_count": null,
   "metadata": {},
   "outputs": [],
   "source": []
  }
 ],
 "metadata": {
  "kernelspec": {
   "display_name": "Python 3",
   "language": "python",
   "name": "python3"
  },
  "language_info": {
   "codemirror_mode": {
    "name": "ipython",
    "version": 3
   },
   "file_extension": ".py",
   "mimetype": "text/x-python",
   "name": "python",
   "nbconvert_exporter": "python",
   "pygments_lexer": "ipython3",
   "version": "3.7.4"
  }
 },
 "nbformat": 4,
 "nbformat_minor": 2
}
