{
 "cells": [
  {
   "cell_type": "code",
   "execution_count": 2,
   "metadata": {},
   "outputs": [],
   "source": [
    "import pandas as pd\n",
    "import numpy as np\n"
   ]
  },
  {
   "cell_type": "code",
   "execution_count": 8,
   "id": "0878655a",
   "metadata": {},
   "outputs": [],
   "source": [
    "df = pd.read_excel('indicadoressegurancapublicamunic.xlsx', sheet_name='MA')"
   ]
  },
  {
   "cell_type": "code",
   "execution_count": 11,
   "id": "980b7a2e",
   "metadata": {},
   "outputs": [
    {
     "data": {
      "text/html": [
       "<div>\n",
       "<style scoped>\n",
       "    .dataframe tbody tr th:only-of-type {\n",
       "        vertical-align: middle;\n",
       "    }\n",
       "\n",
       "    .dataframe tbody tr th {\n",
       "        vertical-align: top;\n",
       "    }\n",
       "\n",
       "    .dataframe thead th {\n",
       "        text-align: right;\n",
       "    }\n",
       "</style>\n",
       "<table border=\"1\" class=\"dataframe\">\n",
       "  <thead>\n",
       "    <tr style=\"text-align: right;\">\n",
       "      <th></th>\n",
       "      <th>Município</th>\n",
       "      <th>Sigla UF</th>\n",
       "      <th>Região</th>\n",
       "      <th>Mês/Ano</th>\n",
       "      <th>Vítimas</th>\n",
       "    </tr>\n",
       "  </thead>\n",
       "  <tbody>\n",
       "    <tr>\n",
       "      <th>0</th>\n",
       "      <td>Açailândia</td>\n",
       "      <td>MA</td>\n",
       "      <td>NORDESTE</td>\n",
       "      <td>2018-01-01</td>\n",
       "      <td>4</td>\n",
       "    </tr>\n",
       "    <tr>\n",
       "      <th>1</th>\n",
       "      <td>Afonso Cunha</td>\n",
       "      <td>MA</td>\n",
       "      <td>NORDESTE</td>\n",
       "      <td>2018-01-01</td>\n",
       "      <td>0</td>\n",
       "    </tr>\n",
       "    <tr>\n",
       "      <th>2</th>\n",
       "      <td>Água Doce Do Maranhão</td>\n",
       "      <td>MA</td>\n",
       "      <td>NORDESTE</td>\n",
       "      <td>2018-01-01</td>\n",
       "      <td>0</td>\n",
       "    </tr>\n",
       "    <tr>\n",
       "      <th>3</th>\n",
       "      <td>Alcântara</td>\n",
       "      <td>MA</td>\n",
       "      <td>NORDESTE</td>\n",
       "      <td>2018-01-01</td>\n",
       "      <td>0</td>\n",
       "    </tr>\n",
       "    <tr>\n",
       "      <th>4</th>\n",
       "      <td>Aldeias Altas</td>\n",
       "      <td>MA</td>\n",
       "      <td>NORDESTE</td>\n",
       "      <td>2018-01-01</td>\n",
       "      <td>1</td>\n",
       "    </tr>\n",
       "    <tr>\n",
       "      <th>...</th>\n",
       "      <td>...</td>\n",
       "      <td>...</td>\n",
       "      <td>...</td>\n",
       "      <td>...</td>\n",
       "      <td>...</td>\n",
       "    </tr>\n",
       "    <tr>\n",
       "      <th>9186</th>\n",
       "      <td>Viana</td>\n",
       "      <td>MA</td>\n",
       "      <td>NORDESTE</td>\n",
       "      <td>2021-07-01</td>\n",
       "      <td>2</td>\n",
       "    </tr>\n",
       "    <tr>\n",
       "      <th>9187</th>\n",
       "      <td>Vila Nova Dos Martírios</td>\n",
       "      <td>MA</td>\n",
       "      <td>NORDESTE</td>\n",
       "      <td>2021-07-01</td>\n",
       "      <td>1</td>\n",
       "    </tr>\n",
       "    <tr>\n",
       "      <th>9188</th>\n",
       "      <td>Vitória Do Mearim</td>\n",
       "      <td>MA</td>\n",
       "      <td>NORDESTE</td>\n",
       "      <td>2021-07-01</td>\n",
       "      <td>1</td>\n",
       "    </tr>\n",
       "    <tr>\n",
       "      <th>9189</th>\n",
       "      <td>Vitorino Freire</td>\n",
       "      <td>MA</td>\n",
       "      <td>NORDESTE</td>\n",
       "      <td>2021-07-01</td>\n",
       "      <td>0</td>\n",
       "    </tr>\n",
       "    <tr>\n",
       "      <th>9190</th>\n",
       "      <td>Zé Doca</td>\n",
       "      <td>MA</td>\n",
       "      <td>NORDESTE</td>\n",
       "      <td>2021-07-01</td>\n",
       "      <td>0</td>\n",
       "    </tr>\n",
       "  </tbody>\n",
       "</table>\n",
       "<p>9191 rows × 5 columns</p>\n",
       "</div>"
      ],
      "text/plain": [
       "                    Município Sigla UF    Região    Mês/Ano  Vítimas\n",
       "0                  Açailândia       MA  NORDESTE 2018-01-01        4\n",
       "1                Afonso Cunha       MA  NORDESTE 2018-01-01        0\n",
       "2       Água Doce Do Maranhão       MA  NORDESTE 2018-01-01        0\n",
       "3                   Alcântara       MA  NORDESTE 2018-01-01        0\n",
       "4               Aldeias Altas       MA  NORDESTE 2018-01-01        1\n",
       "...                       ...      ...       ...        ...      ...\n",
       "9186                    Viana       MA  NORDESTE 2021-07-01        2\n",
       "9187  Vila Nova Dos Martírios       MA  NORDESTE 2021-07-01        1\n",
       "9188        Vitória Do Mearim       MA  NORDESTE 2021-07-01        1\n",
       "9189          Vitorino Freire       MA  NORDESTE 2021-07-01        0\n",
       "9190                  Zé Doca       MA  NORDESTE 2021-07-01        0\n",
       "\n",
       "[9191 rows x 5 columns]"
      ]
     },
     "execution_count": 11,
     "metadata": {},
     "output_type": "execute_result"
    }
   ],
   "source": [
    "df"
   ]
  },
  {
   "cell_type": "code",
   "execution_count": 10,
   "id": "faceec2b",
   "metadata": {},
   "outputs": [
    {
     "data": {
      "text/plain": [
       "5955"
      ]
     },
     "execution_count": 10,
     "metadata": {},
     "output_type": "execute_result"
    }
   ],
   "source": [
    "df['Vítimas'].sum()"
   ]
  },
  {
   "cell_type": "code",
   "execution_count": null,
   "id": "99b14c60",
   "metadata": {},
   "outputs": [],
   "source": []
  }
 ],
 "metadata": {
  "interpreter": {
   "hash": "31f2aee4e71d21fbe5cf8b01ff0e069b9275f58929596ceb00d14d90e3e16cd6"
  },
  "kernelspec": {
   "display_name": "Python 3.8.9 64-bit",
   "language": "python",
   "name": "python3"
  },
  "language_info": {
   "codemirror_mode": {
    "name": "ipython",
    "version": 3
   },
   "file_extension": ".py",
   "mimetype": "text/x-python",
   "name": "python",
   "nbconvert_exporter": "python",
   "pygments_lexer": "ipython3",
   "version": "3.8.9"
  }
 },
 "nbformat": 4,
 "nbformat_minor": 5
}
